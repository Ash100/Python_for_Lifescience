{
  "nbformat": 4,
  "nbformat_minor": 0,
  "metadata": {
    "colab": {
      "provenance": [],
      "authorship_tag": "ABX9TyP4VMxeUsyGHh5PWphaW6OD",
      "include_colab_link": true
    },
    "kernelspec": {
      "name": "python3",
      "display_name": "Python 3"
    },
    "language_info": {
      "name": "python"
    }
  },
  "cells": [
    {
      "cell_type": "markdown",
      "metadata": {
        "id": "view-in-github",
        "colab_type": "text"
      },
      "source": [
        "<a href=\"https://colab.research.google.com/github/Ash100/Python_for_Lifescience/blob/main/Chapter_6%3APandas_for_Data_Analysis.ipynb\" target=\"_parent\"><img src=\"https://colab.research.google.com/assets/colab-badge.svg\" alt=\"Open In Colab\"/></a>"
      ]
    },
    {
      "cell_type": "markdown",
      "source": [
        "#**Learn Python for Biological Data Analysis**\n",
        "## **Chapter 6:** Pandas for Data Analysis\n",
        "\n",
        "This course is designed and taught by **Dr. Ashfaq Ahmad**. During teaching I will use all the examples from the Biological Sciences or Life Sciences."
      ],
      "metadata": {
        "id": "8c-02HG6rjwQ"
      }
    },
    {
      "cell_type": "markdown",
      "source": [
        "## 📅 Course Outline\n",
        "\n",
        "---\n",
        "\n",
        "## 🏗️ Foundation (Weeks 1–2)\n",
        "\n",
        "### 📘 Chapter 1: Getting Started with Python and Colab [Watch Lecture](https://youtu.be/BKe2CmiG_TU)\n",
        "- Introduction to Google Colab interface\n",
        "- Basic Python syntax and data types\n",
        "- Variables, strings, and basic operations\n",
        "- Print statements and comments\n",
        "\n",
        "### 📘 Chapter 2: Control Structures [Watch Lecture](https://youtu.be/uPHeqVb4Mo0)\n",
        "- Conditional statements (`if`/`else`)\n",
        "- Loops (`for` and `while`)\n",
        "- Basic functions and scope\n",
        "\n",
        "---\n",
        "\n",
        "## 🧬 Data Handling (Weeks 3–4)\n",
        "\n",
        "### 📘 Chapter 3: Data Structures for Biology [Watch Lecture](https://youtu.be/x1IJwSYhNZg)\n",
        "- Lists and tuples (storing sequences, experimental data)\n",
        "- Dictionaries (gene annotations, species data)\n",
        "- Sets (unique identifiers, sample collections)\n",
        "\n",
        "### 📘 Chapter 4: Working with Files [Watch Lecture](https://youtu.be/D27MyLpSdks)\n",
        "- Reading and writing text files\n",
        "- Handling CSV files (experimental data)\n",
        "- Basic file operations for biological datasets\n",
        "\n",
        "---\n",
        "\n",
        "## 📊 Scientific Computing (Weeks 5–7)\n",
        "\n",
        "### 📘 Chapter 5: NumPy for Numerical Data [Watch Lecture](https://youtu.be/DPaZN3NQtWw)\n",
        "- Arrays for storing experimental measurements\n",
        "- Mathematical operations on datasets\n",
        "- Statistical calculations (mean, median, standard deviation)\n",
        "\n",
        "### 📘 Chapter 6: Pandas for Data Analysis\n",
        "- DataFrames for structured biological data\n",
        "- Data cleaning and manipulation\n",
        "- Filtering and grouping experimental results\n",
        "- Handling missing data\n",
        "\n",
        "### 📘 Chapter 7: Data Visualization\n",
        "- Matplotlib basics for scientific plots\n",
        "- Creating publication-quality figures\n",
        "- Specialized plots for biological data (histograms, scatter plots, box plots)\n",
        "\n",
        "---\n",
        "\n",
        "## 🔬 Biological Applications (Weeks 8–10)\n",
        "\n",
        "### 📘 Chapter 8: Sequence Analysis\n",
        "- String manipulation for DNA/RNA sequences\n",
        "- Basic sequence operations (reverse complement, transcription)\n",
        "- Reading FASTA files\n",
        "- Simple sequence statistics\n",
        "\n",
        "### 📘 Chapter 9: Statistical Analysis for Biology\n",
        "- Hypothesis testing basics\n",
        "- t-tests and chi-square tests\n",
        "- Correlation analysis\n",
        "- Introduction to `scipy.stats`\n",
        "\n",
        "### 📘 Chapter 10: Practical Projects\n",
        "- Analyzing gene expression data\n",
        "- Population genetics calculations\n",
        "- Ecological data analysis\n",
        "- Creating reproducible research workflows\n",
        "\n",
        "---\n",
        "\n",
        "## 🚀 Advanced Topics *(Optional – Weeks 11–12)*\n",
        "\n",
        "### 📘 Chapter 11: Bioinformatics Libraries\n",
        "- Introduction to Biopython\n",
        "- Working with biological databases\n",
        "- Phylogenetic analysis basics\n",
        "\n",
        "### 📘 Chapter 12: Best Practices\n",
        "- Code organization and documentation\n",
        "- Error handling\n",
        "- Reproducible research practices\n",
        "- Sharing code and results\n",
        "\n",
        "---\n",
        "\n",
        "✅ We will move from basic programming concepts to practical biological applications, ensuring students can immediately apply what they learn to their research and coursework.\n"
      ],
      "metadata": {
        "id": "v4tzB7RDrvKz"
      }
    },
    {
      "cell_type": "markdown",
      "source": [
        "### Introduction\n",
        "Welcome to this chapter on using **Pandas**, a powerful Python library for working with structured data. In biology, we often deal with tabular data—gene expression matrices, protein interaction tables, clinical trial results, etc. Pandas helps us clean, filter, and analyze such data efficiently.\n",
        "\n",
        "In this chapter, you'll learn how to:\n",
        "- Create and manipulate DataFrames\n",
        "- Clean biological datasets\n",
        "- Filter and group experimental results\n",
        "- Handle missing data\n",
        "\n",
        "Let's dive in!"
      ],
      "metadata": {
        "id": "Qga05A2jsJaI"
      }
    },
    {
      "cell_type": "markdown",
      "source": [
        "### 🔧 Step 1: Setting Up\n",
        "\n",
        "Before we begin, we need to install and import the libraries we'll use.  \n",
        "- `pandas`: for data manipulation  \n",
        "- `seaborn`: for visualization  \n",
        "- `numpy`: for numerical operations"
      ],
      "metadata": {
        "id": "JrmssLgCsr3B"
      }
    },
    {
      "cell_type": "code",
      "execution_count": null,
      "metadata": {
        "id": "zqR364kKrfaj"
      },
      "outputs": [],
      "source": [
        "# Install necessary libraries\n",
        "!pip install pandas seaborn\n",
        "\n",
        "# Import libraries\n",
        "import pandas as pd\n",
        "import seaborn as sns\n",
        "import numpy as np"
      ]
    },
    {
      "cell_type": "markdown",
      "source": [
        "## DataFrames (df) for structured biological data\n",
        "\n",
        "### 🧬 What is a DataFrame?\n",
        "\n",
        "A **DataFrame** is like an Excel spreadsheet in Python. Each row is an observation (e.g., a gene), and each column is a variable (e.g., expression level, tissue type).\n",
        "\n",
        "Here, we simulate a gene expression dataset:\n",
        "- `Gene`: gene name\n",
        "- `Expression_Level`: measured expression\n",
        "- `Tissue`: tissue where it was measured\n",
        "- `Condition`: whether the sample is healthy or cancerous\n",
        "\n",
        "This structure is common in bioinformatics and experimental biology.\n"
      ],
      "metadata": {
        "id": "kimF82qLs5JQ"
      }
    },
    {
      "cell_type": "code",
      "source": [
        "# Sample gene expression dataset\n",
        "data = {\n",
        "    'Gene': ['TP53', 'BRCA1', 'EGFR', 'MYC', 'CDK2'],\n",
        "    'Expression_Level': [7.2, 5.5, 8.1, 6.3, 4.9],\n",
        "    'Tissue': ['Liver', 'Breast', 'Lung', 'Brain', 'Liver'],\n",
        "    'Condition': ['Healthy', 'Cancer', 'Cancer', 'Healthy', 'Cancer']\n",
        "}\n",
        "\n",
        "df = pd.DataFrame(data)\n",
        "df"
      ],
      "metadata": {
        "id": "UKlfmnsNtQfI"
      },
      "execution_count": null,
      "outputs": []
    },
    {
      "cell_type": "markdown",
      "source": [
        "## 🧹 Cleaning/Handling Biological Data\n",
        "\n",
        "Real-world biological data is messy. We often need to:\n",
        "- Rename columns for clarity\n",
        "- Normalize values (e.g., divide by max expression)\n",
        "- Standardize labels (e.g., \"Liver\" → \"Hepatic\")\n",
        "\n",
        "These steps make downstream analysis easier and more reproducible.\n"
      ],
      "metadata": {
        "id": "op6MdhwotgCz"
      }
    },
    {
      "cell_type": "code",
      "source": [
        "# Rename columns for clarity\n",
        "df.rename(columns={'Expression_Level': 'Expr'}, inplace=True)\n",
        "\n",
        "# Add a normalized expression column\n",
        "df['Expr_Norm'] = df['Expr'] / df['Expr'].max()\n",
        "\n",
        "# Replace tissue names for consistency\n",
        "df['Tissue'] = df['Tissue'].replace({'Liver': 'Hepatic'})\n",
        "\n",
        "df\n"
      ],
      "metadata": {
        "id": "BPu8O8ICty2b"
      },
      "execution_count": null,
      "outputs": []
    },
    {
      "cell_type": "markdown",
      "source": [
        "## 🔬 Filtering and Grouping\n",
        "\n",
        "We often want to:\n",
        "- Focus on specific conditions (e.g., cancer samples)\n",
        "- Compare groups (e.g., tissues)\n",
        "\n",
        "Here, we:\n",
        "- Filter rows where `Condition == 'Cancer'`\n",
        "- Group by `Tissue` and compute average and maximum expression\n",
        "\n",
        "This mimics comparing experimental replicates or conditions.\n"
      ],
      "metadata": {
        "id": "9PtkgqlWuEd4"
      }
    },
    {
      "cell_type": "code",
      "source": [
        "# Filter for cancer samples\n",
        "cancer_df = df.query(\"Condition == 'Cancer'\")\n",
        "cancer_df"
      ],
      "metadata": {
        "id": "3AFMH_mvWFd1"
      },
      "execution_count": null,
      "outputs": []
    },
    {
      "cell_type": "code",
      "source": [
        "# Group by tissue and compute mean/max expression\n",
        "grouped = df.groupby('Tissue').agg({'Expr': ['mean', 'max']})\n",
        "grouped"
      ],
      "metadata": {
        "id": "s5KbVF3FuMn2"
      },
      "execution_count": null,
      "outputs": []
    },
    {
      "cell_type": "markdown",
      "source": [
        "## ❗ Missing Data in Biology\n",
        "\n",
        "Missing data is common—due to failed experiments, unreadable files, or low signal.\n",
        "\n",
        "We can:\n",
        "- Detect missing values using `.isna()`\n",
        "- Fill them with statistical estimates (e.g., mean)\n",
        "- Drop them if necessary\n",
        "\n",
        "Always document how you handle missing data—it affects biological interpretation. <br>\n",
        "**Lets create a df with some missing data first**"
      ],
      "metadata": {
        "id": "XXvjH7M4uZCf"
      }
    },
    {
      "cell_type": "code",
      "source": [
        "# Create a DataFrame with missing data\n",
        "missing_data = {\n",
        "    'SampleID': ['P1', 'P2', 'P3', 'P4'],\n",
        "    'Age': [35, 42, None, 58],\n",
        "    'BiomarkerA': [1.2, 1.5, 1.1, None],\n",
        "    'BiomarkerB': [15.2, 16.5, 14.8, 17.1]\n",
        "}\n",
        "missing_df = pd.DataFrame(missing_data)\n",
        "print(\"Original DataFrame with Missing Data:\")\n",
        "print(missing_df)\n",
        "\n",
        "# Check for missing values\n",
        "print(\"\\nMissing values per column:\")\n",
        "print(missing_df.isnull().sum())"
      ],
      "metadata": {
        "id": "2wX-RGOpuhQn"
      },
      "execution_count": null,
      "outputs": []
    },
    {
      "cell_type": "markdown",
      "source": [
        "**Drop the missing data**<br>\n",
        "The `.dropna()` method removes rows or columns with missing values."
      ],
      "metadata": {
        "id": "hEl4ZC_JvHMV"
      }
    },
    {
      "cell_type": "code",
      "source": [
        "# Create a new DataFrame by dropping all rows with any missing values\n",
        "df_dropped = missing_df.dropna()\n",
        "print(\"DataFrame after dropping rows with missing values:\")\n",
        "print(df_dropped)"
      ],
      "metadata": {
        "id": "i_BvyEt6vGSf"
      },
      "execution_count": null,
      "outputs": []
    },
    {
      "cell_type": "markdown",
      "source": [
        "**Fill the Missing Data**<br>\n",
        "The `.fillna()` method replaces missing values with a specified value. A common approach is to fill missing values with the mean or median of the column."
      ],
      "metadata": {
        "id": "mW7OI4vHvfOI"
      }
    },
    {
      "cell_type": "code",
      "source": [
        "# Calculate the mean age and median of BiomarkerA\n",
        "mean_age = missing_df['Age'].mean()\n",
        "median_biomarker_a = missing_df['BiomarkerA'].median()\n",
        "\n",
        "# Fill missing 'Age' with the mean and missing 'BiomarkerA' with the median\n",
        "df_filled = missing_df.fillna(value={'Age': mean_age, 'BiomarkerA': median_biomarker_a})\n",
        "print(\"DataFrame after filling missing values:\")\n",
        "print(df_filled)"
      ],
      "metadata": {
        "id": "9ADapuOavqC3"
      },
      "execution_count": null,
      "outputs": []
    },
    {
      "cell_type": "markdown",
      "source": [
        "I hope you are learning something new. Keep practicing"
      ],
      "metadata": {
        "id": "ouzncapULNqY"
      }
    }
  ]
}