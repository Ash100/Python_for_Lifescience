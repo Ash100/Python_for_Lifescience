{
  "nbformat": 4,
  "nbformat_minor": 0,
  "metadata": {
    "colab": {
      "provenance": [],
      "authorship_tag": "ABX9TyMOLuia+fC9ocLz0XVQJrNW",
      "include_colab_link": true
    },
    "kernelspec": {
      "name": "python3",
      "display_name": "Python 3"
    },
    "language_info": {
      "name": "python"
    }
  },
  "cells": [
    {
      "cell_type": "markdown",
      "metadata": {
        "id": "view-in-github",
        "colab_type": "text"
      },
      "source": [
        "<a href=\"https://colab.research.google.com/github/Ash100/Python_for_Lifescience/blob/main/Chapter_7%3AData_Visualization.ipynb\" target=\"_parent\"><img src=\"https://colab.research.google.com/assets/colab-badge.svg\" alt=\"Open In Colab\"/></a>"
      ]
    },
    {
      "cell_type": "markdown",
      "source": [
        "#**Learn Python for Biological Science**\n",
        "\n",
        "This course is designed and taught by **Dr. Ashfaq Ahmad**. During teaching I will use all the examples from the Biological Sciences or Life Sciences."
      ],
      "metadata": {
        "id": "oAfTLWyu7oBB"
      }
    },
    {
      "cell_type": "markdown",
      "source": [
        "## 📅 Course Outline\n",
        "\n",
        "---\n",
        "\n",
        "## 🏗️ Foundation (Weeks 1–2)\n",
        "\n",
        "### 📘 Chapter 1: Getting Started with Python and Colab [Watch Lecture](https://youtu.be/BKe2CmiG_TU)\n",
        "- Introduction to Google Colab interface\n",
        "- Basic Python syntax and data types\n",
        "- Variables, strings, and basic operations\n",
        "- Print statements and comments\n",
        "\n",
        "### 📘 Chapter 2: Control Structures [Watch Lecture](https://youtu.be/uPHeqVb4Mo0)\n",
        "- Conditional statements (`if`/`else`)\n",
        "- Loops (`for` and `while`)\n",
        "- Basic functions and scope\n",
        "\n",
        "---\n",
        "\n",
        "## 🧬 Data Handling (Weeks 3–4)\n",
        "\n",
        "### 📘 Chapter 3: Data Structures for Biology [Watch Lecture](https://youtu.be/x1IJwSYhNZg)\n",
        "- Lists and tuples (storing sequences, experimental data)\n",
        "- Dictionaries (gene annotations, species data)\n",
        "- Sets (unique identifiers, sample collections)\n",
        "\n",
        "### 📘 Chapter 4: Working with Files [Watch Lecture](https://youtu.be/D27MyLpSdks)\n",
        "- Reading and writing text files\n",
        "- Handling CSV files (experimental data)\n",
        "- Basic file operations for biological datasets\n",
        "\n",
        "---\n",
        "\n",
        "## 📊 Scientific Computing (Weeks 5–7)\n",
        "\n",
        "### 📘 Chapter 5: NumPy for Numerical Data [Watch Lecture](https://youtu.be/DPaZN3NQtWw)\n",
        "- Arrays for storing experimental measurements\n",
        "- Mathematical operations on datasets\n",
        "- Statistical calculations (mean, median, standard deviation)\n",
        "\n",
        "### 📘 Chapter 6: Pandas for Data Analysis [Watch Lecture](https://youtu.be/MPE6qibUyTE)\n",
        "- DataFrames for structured biological data\n",
        "- Data cleaning and manipulation\n",
        "- Filtering and grouping experimental results\n",
        "- Handling missing data\n",
        "\n",
        "### 📘 Chapter 7: Data Visualization\n",
        "- Matplotlib basics for scientific plots\n",
        "- Creating publication-quality figures\n",
        "- Specialized plots for biological data (histograms, scatter plots, box plots)\n",
        "\n",
        "---\n",
        "\n",
        "## 🔬 Biological Applications (Weeks 8–10)\n",
        "\n",
        "### 📘 Chapter 8: Sequence Analysis\n",
        "- String manipulation for DNA/RNA sequences\n",
        "- Basic sequence operations (reverse complement, transcription)\n",
        "- Reading FASTA files\n",
        "- Simple sequence statistics\n",
        "\n",
        "### 📘 Chapter 9: Statistical Analysis for Biology\n",
        "- Hypothesis testing basics\n",
        "- t-tests and chi-square tests\n",
        "- Correlation analysis\n",
        "- Introduction to `scipy.stats`\n",
        "\n",
        "### 📘 Chapter 10: Practical Projects\n",
        "- Analyzing gene expression data\n",
        "- Population genetics calculations\n",
        "- Ecological data analysis\n",
        "- Creating reproducible research workflows\n",
        "\n",
        "---\n",
        "\n",
        "## 🚀 Advanced Topics *(Optional – Weeks 11–12)*\n",
        "\n",
        "### 📘 Chapter 11: Bioinformatics Libraries\n",
        "- Introduction to Biopython\n",
        "- Working with biological databases\n",
        "- Phylogenetic analysis basics\n",
        "\n",
        "### 📘 Chapter 12: Best Practices\n",
        "- Code organization and documentation\n",
        "- Error handling\n",
        "- Reproducible research practices\n",
        "- Sharing code and results\n",
        "\n",
        "---\n",
        "\n",
        "✅ We will move from basic programming concepts to practical biological applications, ensuring students can immediately apply what they learn to their research and coursework.\n"
      ],
      "metadata": {
        "id": "o7mbuWlm7gWI"
      }
    },
    {
      "cell_type": "markdown",
      "source": [
        "## 🧬 Chapter 7: Data Visualization in Biology with Matplotlib\n",
        "\n",
        "Welcome to one of the most powerful tools in your bioinformatics toolkit: **data visualization**. In biology, visualizing data isn't just about making pretty plots—it's about uncovering patterns, validating hypotheses, and communicating discoveries.\n",
        "\n",
        "In this chapter, you'll learn how to use **Matplotlib** to create clear, publication-ready figures that reveal the story behind your data. We'll explore:\n",
        "\n",
        "- Line plots for time-series experiments\n",
        "- Histograms for gene expression distributions\n",
        "- Scatter plots for biomarker correlations\n",
        "- Box plots for comparing experimental groups\n",
        "\n",
        "Let’s bring your biological data to life!\n",
        "\n",
        "---\n",
        "\n",
        "### 🧪 1. Why Visualization Matters in Biology\n",
        "\n",
        "Biological data is often noisy, complex, and multidimensional. Visualization helps you:\n",
        "\n",
        "- Detect outliers and anomalies\n",
        "- Compare experimental conditions\n",
        "- Communicate findings to collaborators and journals\n",
        "- Make data accessible to non-specialists\n",
        "\n",
        "Whether you're analyzing gene expression, protein concentrations, or microbial growth, a good plot can make your insights crystal clear.\n",
        "\n",
        "---\n",
        "\n",
        "### 🔧 2. Getting Started with Matplotlib\n",
        "\n",
        "First, import the library and set up your plotting environment.\n"
      ],
      "metadata": {
        "id": "_laEawbo8gvv"
      }
    },
    {
      "cell_type": "code",
      "source": [
        "import matplotlib.pyplot as plt\n",
        "import numpy as np\n",
        "import pandas as pd\n",
        "\n",
        "# Optional: Set a clean style\n",
        "plt.style.use('seaborn-v0_8-whitegrid')"
      ],
      "metadata": {
        "id": "9ffUpoNg-BdH"
      },
      "execution_count": 1,
      "outputs": []
    },
    {
      "cell_type": "markdown",
      "source": [
        "###Generate a synthetic biological dataset"
      ],
      "metadata": {
        "id": "E1bOmVpo-6F2"
      }
    },
    {
      "cell_type": "code",
      "source": [
        "np.random.seed(42)\n",
        "\n",
        "genes = [f'Gene_{i}' for i in range(1, 101)]\n",
        "control = np.random.normal(loc=50, scale=10, size=100)\n",
        "treatment_A = control + np.random.normal(loc=5, scale=5, size=100)\n",
        "treatment_B = control + np.random.normal(loc=-5, scale=5, size=100)\n",
        "\n",
        "df = pd.DataFrame({\n",
        "    'Gene': genes,\n",
        "    'Control': control,\n",
        "    'Treatment_A': treatment_A,\n",
        "    'Treatment_B': treatment_B\n",
        "})\n",
        "\n",
        "df.head()"
      ],
      "metadata": {
        "id": "rq_MgQ2U--vP"
      },
      "execution_count": null,
      "outputs": []
    },
    {
      "cell_type": "markdown",
      "source": [
        "**Explanation:**<br> We’re simulating expression levels for 100 genes:\n",
        "\n",
        "**Control:** baseline expression\n",
        "\n",
        "**Treatment_A:** slightly increased expression\n",
        "\n",
        "**Treatment_B:** slightly decreased expression This mimics how genes might respond to different experimental conditions."
      ],
      "metadata": {
        "id": "tmovM21Z_ntf"
      }
    },
    {
      "cell_type": "markdown",
      "source": [
        "**`np.random.seed(42)`**<br>\n",
        "This sets a random seed so that every time we run the notebook, we get the same random numbers. It ensures reproducibility.<br>**`genes = [f'Gene_{i}' for i in range(1, 101)]\n",
        "`**<br>We’re creating a list of 100 gene names: Gene_1, Gene_2, ..., Gene_100.<br> **`control = np.random.normal(loc=50, scale=10, size=100)\n",
        "`**<br>We simulate expression levels for 100 genes under a control condition.\n",
        "\n",
        "**loc=50** means the average expression is 50.\n",
        "\n",
        "**scale=10** means there’s some variation (standard deviation of 10).<br>\n",
        "**`treatment_A = control + np.random.normal(loc=5, scale=5, size=100)\n",
        "`**<br> We simulate Treatment A by adding a small increase to the control values.\n",
        "\n",
        "The increase is randomly distributed around 5 units, with some noise.<br>**`treatment_B = control + np.random.normal(loc=-5, scale=5, size=100)\n",
        "`**<br> Treatment B simulates a decrease in expression compared to control.\n",
        "\n",
        "The decrease is randomly distributed around -5 units.<br>\n",
        "**`df = pd.DataFrame({\n",
        "    'Gene': genes,\n",
        "    'Control': control,\n",
        "    'Treatment_A': treatment_A,\n",
        "    'Treatment_B': treatment_B\n",
        "})`**<br> We combine all the data into a single table (DataFrame) with columns for gene names and expression levels under each condition.\n",
        "\n"
      ],
      "metadata": {
        "id": "p6egFprPAdWR"
      }
    },
    {
      "cell_type": "markdown",
      "source": [
        "###Line Plot for a single gene"
      ],
      "metadata": {
        "id": "uL0oEmBjDgcZ"
      }
    },
    {
      "cell_type": "code",
      "source": [
        "gene_index = 10  # You can change this number to explore other genes\n",
        "gene_data = df.iloc[gene_index, 1:]\n",
        "\n",
        "plt.plot(gene_data.index, gene_data.values, marker='o')\n",
        "plt.title(f'Expression of {df.iloc[gene_index, 0]}')\n",
        "plt.ylabel('Expression Level')\n",
        "plt.show()\n"
      ],
      "metadata": {
        "id": "4GxMgJpkC9c4"
      },
      "execution_count": null,
      "outputs": []
    },
    {
      "cell_type": "markdown",
      "source": [
        "The above plot shows how one gene’s expression changes across the three conditions. Students can change gene_index to explore different genes."
      ],
      "metadata": {
        "id": "PeY4u9J8Du9n"
      }
    },
    {
      "cell_type": "markdown",
      "source": [
        "###Let's explore Box Plot for all genes"
      ],
      "metadata": {
        "id": "ng30EBODD_d-"
      }
    },
    {
      "cell_type": "code",
      "source": [
        "plt.boxplot([df['Control'], df['Treatment_A'], df['Treatment_B']],\n",
        "            labels=['Control', 'Treatment A', 'Treatment B'])\n",
        "plt.title('Gene Expression Across Conditions')\n",
        "plt.ylabel('Expression Level')\n",
        "plt.show()\n"
      ],
      "metadata": {
        "id": "3TS6_yj_EDj1"
      },
      "execution_count": null,
      "outputs": []
    },
    {
      "cell_type": "markdown",
      "source": [
        "Above the Box plots summarize the distribution of expression levels for all genes in each condition. They help us compare variability and median values."
      ],
      "metadata": {
        "id": "6C7ztBMKJNRh"
      }
    },
    {
      "cell_type": "markdown",
      "source": [
        "###Now Let's try Histogram on One condition"
      ],
      "metadata": {
        "id": "gddzV-3hJW8I"
      }
    },
    {
      "cell_type": "code",
      "source": [
        "plt.hist(df['Treatment_A'], bins=20, color='lightgreen', edgecolor='black')\n",
        "plt.title('Distribution of Expression in Treatment A')\n",
        "plt.xlabel('Expression Level')\n",
        "plt.ylabel('Frequency')\n",
        "plt.show()\n"
      ],
      "metadata": {
        "id": "j6TK2TqiJb4f"
      },
      "execution_count": null,
      "outputs": []
    },
    {
      "cell_type": "markdown",
      "source": [
        "**`bins=20`** divides the data into intervals. <br>Above the Histograms show how frequently different expression levels occur. This helps us understand the overall pattern of gene responses in Treatment A."
      ],
      "metadata": {
        "id": "NnnxSueYJzLG"
      }
    },
    {
      "cell_type": "markdown",
      "source": [
        "### Scatter Plot Comparing Two Conditions"
      ],
      "metadata": {
        "id": "kcjhTftsJ1tG"
      }
    },
    {
      "cell_type": "code",
      "source": [
        "plt.scatter(df['Control'], df['Treatment_A'], alpha=0.6)\n",
        "plt.xlabel('Control')\n",
        "plt.ylabel('Treatment A')\n",
        "plt.title('Expression Comparison: Control vs Treatment A')\n",
        "plt.show()\n"
      ],
      "metadata": {
        "id": "q69z4DZzJ7zd"
      },
      "execution_count": null,
      "outputs": []
    },
    {
      "cell_type": "markdown",
      "source": [
        "Each dot represents one gene. If dots lie along the diagonal, it means the gene’s expression didn’t change much. Dots far from the diagonal show strong changes."
      ],
      "metadata": {
        "id": "N5rEBVlJKNHO"
      }
    },
    {
      "cell_type": "markdown",
      "source": [
        "### 📊 Summary of Plot Types and Biological Use Cases\n",
        "\n",
        "| 🖼️ **Plot Type**   | 🔬 **Use Case in Biology**                          |\n",
        "|--------------------|-----------------------------------------------------|\n",
        "| 📈 Line Plot        | Time-series data (e.g., growth curves, kinetics)    |\n",
        "| 📊 Histogram        | Distribution of values (e.g., gene expression, counts) |\n",
        "| 🔬 Scatter Plot     | Correlation between variables (e.g., biomarkers, gene pairs) |\n",
        "| 📦 Box Plot         | Comparison across groups (e.g., treatments, sample types) |\n"
      ],
      "metadata": {
        "id": "OQ-NpIXFMcYK"
      }
    },
    {
      "cell_type": "markdown",
      "source": [
        "### **Congratulations** <br> You are now familier with visualization, and Matplot. I suggest you to practice on different datasets."
      ],
      "metadata": {
        "id": "NBbnTBDHK2XP"
      }
    }
  ]
}